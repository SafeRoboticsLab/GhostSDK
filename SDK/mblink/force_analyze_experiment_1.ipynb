{
 "cells": [
  {
   "cell_type": "code",
   "execution_count": 2,
   "id": "1ab6cb52-44f8-4c21-902b-f9879442b0cd",
   "metadata": {},
   "outputs": [],
   "source": [
    "import numpy as np\n",
    "import matplotlib.pyplot as plt\n",
    "import pandas as pd\n",
    "import os"
   ]
  },
  {
   "cell_type": "code",
   "execution_count": 60,
   "id": "22dee206-1b42-497e-bc6e-b694ae7f5ced",
   "metadata": {},
   "outputs": [],
   "source": [
    "files = [\n",
    "    \"2024-02-01-03-25-51-vicon-spirit-spirit.csv\",\n",
    "    \"2024-02-01-03-25-51-zp_500n.csv\",\n",
    "    \"2024-02-01-03-54-21-zp_500n.csv\"\n",
    "]\n",
    "\n",
    "timestamps = {\n",
    "    \"isaacs_margin\": {\n",
    "        # start, stop, result (1: pass, 0: fail)\n",
    "        \"left_low\": ['2024/02/01/03:26:19', '2024/02/01/03:26:28', 1], \n",
    "        \"left_high\": ['2024/02/01/03:26:44', '2024/02/01/03:26:51', 1], \n",
    "        \"right_low\": ['2024/02/01/03:28:09', '2024/02/01/03:28:13', 0], \n",
    "        \"right_high\": ['2024/02/01/03:28:33', '2024/02/01/03:28:40', 1]\n",
    "    },\n",
    "    \"isaacs_penalty\": {\n",
    "        \"left_low\": ['2024/02/01/03:31:00', '2024/02/01/03:31:03', 0], \n",
    "        \"left_high\": ['2024/02/01/03:31:28', '2024/02/01/03:31:31', 0], \n",
    "        \"right_low\": ['2024/02/01/03:32:13', '2024/02/01/03:32:16', 0], \n",
    "        \"right_high\": ['2024/02/01/03:32:51', '2024/02/01/03:32:55', 0]\n",
    "    },\n",
    "    \"sac_margin\": {\n",
    "        \"left_low\": ['2024/02/01/03:35:38', '2024/02/01/03:35:43', 0], \n",
    "        \"left_high\": ['2024/02/01/03:36:35', '2024/02/01/03:36:41', 0], \n",
    "        \"right_low\": ['2024/02/01/03:37:44', '2024/02/01/03:37:47', 0], \n",
    "        \"right_high\": ['2024/02/01/03:38:51', '2024/02/01/03:38:58', 1]\n",
    "    },\n",
    "    \"sac_penalty\": {\n",
    "        \"left_low\": ['', '', 0],  # auto fail\n",
    "        \"left_high\": ['', '', 0], # auto fail\n",
    "        \"right_low\": ['', '', 0], # auto fail\n",
    "        \"right_high\": ['', '', 0] # auto fail\n",
    "    },\n",
    "    \"task\": {\n",
    "        \"left_low\": ['2024/02/01/03:40:04', '2024/02/01/03:40:07', 0],\n",
    "        \"left_high\": ['2024/02/01/03:40:30', '2024/02/01/03:40:33', 0],\n",
    "        \"right_low\": ['2024/02/01/03:41:18', '2024/02/01/03:41:22', 0],\n",
    "        \"right_high\": ['2024/02/01/03:42:08', '2024/02/01/03:42:13', 0]\n",
    "    },\n",
    "    \"stable_stance\": {\n",
    "        \"left_low\": ['2024/02/01/03:54:39', '2024/02/01/03:54:43', 1],\n",
    "        \"left_high\": ['2024/02/01/03:54:55', '2024/02/01/03:54:59', 1],\n",
    "        \"right_low\": ['2024/02/01/03:55:23', '2024/02/01/03:55:26', 1],\n",
    "        \"right_high\": ['2024/02/01/03:55:33', '2024/02/01/03:55:37', 1]\n",
    "    }\n",
    "}"
   ]
  },
  {
   "cell_type": "code",
   "execution_count": 41,
   "id": "c4cd86df-904c-4aa8-aa10-98947a175a20",
   "metadata": {},
   "outputs": [],
   "source": [
    "def plot_run(model, force_type, ax=None):\n",
    "    \"\"\"\n",
    "        model: isaacs_margin, isaacs_penalty, sac_margin, sac_penalty, task, stable_stance\n",
    "        force_type: left_low, left_high, right_low, right_high\n",
    "    \"\"\"\n",
    "    if ax is None:\n",
    "        ax = plt.gca()\n",
    "    start_time = timestamps[model][force_type][0]\n",
    "    stop_time = timestamps[model][force_type][1]\n",
    "    result = timestamps[model][force_type][2]\n",
    "    d = data[(data[\"time\"] >= start_time) & (data[\"time\"] <= stop_time) & (data[\".data\"]>10.0)][\".data\"]\n",
    "    ax.plot(d)\n",
    "    print(d.describe())"
   ]
  },
  {
   "cell_type": "code",
   "execution_count": 76,
   "id": "72c8e992-dcda-4b8f-a6b0-14d3ff0593f1",
   "metadata": {},
   "outputs": [],
   "source": [
    "data = pd.read_csv(files[2])"
   ]
  },
  {
   "cell_type": "code",
   "execution_count": 43,
   "id": "d08e3289-c711-4b39-ad3d-1d7fd31eaa8e",
   "metadata": {},
   "outputs": [
    {
     "data": {
      "text/plain": [
       "Index(['time', '.header.seq', '.header.stamp.secs', '.header.stamp.nsecs',\n",
       "       '.header.frame_id', '.data'],\n",
       "      dtype='object')"
      ]
     },
     "execution_count": 43,
     "metadata": {},
     "output_type": "execute_result"
    }
   ],
   "source": [
    "data.columns"
   ]
  },
  {
   "cell_type": "code",
   "execution_count": 80,
   "id": "944f54e3-1785-4f49-9d42-39fef8be0599",
   "metadata": {},
   "outputs": [
    {
     "name": "stdout",
     "output_type": "stream",
     "text": [
      "count    21.000000\n",
      "mean     62.142857\n",
      "std      18.475865\n",
      "min      12.000000\n",
      "25%      62.799999\n",
      "50%      70.699997\n",
      "75%      72.599998\n",
      "max      74.599998\n",
      "Name: .data, dtype: float64\n"
     ]
    },
    {
     "data": {
      "image/png": "[encoded data removed]",
      "text/plain": [
       "<Figure size 432x288 with 1 Axes>"
      ]
     },
     "metadata": {
      "needs_background": "light"
     },
     "output_type": "display_data"
    }
   ],
   "source": [
    "plot_run(\"stable_stance\", \"right_high\")"
   ]
  },
  {
   "cell_type": "code",
   "execution_count": null,
   "id": "31c21614-b349-49e2-aac6-5afb2e69814e",
   "metadata": {},
   "outputs": [],
   "source": []
  }
 ],
 "metadata": {
  "kernelspec": {
   "display_name": "Python 3 (ipykernel)",
   "language": "python",
   "name": "python3"
  },
  "language_info": {
   "codemirror_mode": {
    "name": "ipython",
    "version": 3
   },
   "file_extension": ".py",
   "mimetype": "text/x-python",
   "name": "python",
   "nbconvert_exporter": "python",
   "pygments_lexer": "ipython3",
   "version": "3.8.16"
  }
 },
 "nbformat": 4,
 "nbformat_minor": 5
}
